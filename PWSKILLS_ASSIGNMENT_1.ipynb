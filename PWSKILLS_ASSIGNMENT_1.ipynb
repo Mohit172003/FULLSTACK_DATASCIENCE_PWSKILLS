{
  "nbformat": 4,
  "nbformat_minor": 0,
  "metadata": {
    "colab": {
      "provenance": []
    },
    "kernelspec": {
      "name": "python3",
      "display_name": "Python 3"
    },
    "language_info": {
      "name": "python"
    }
  },
  "cells": [
    {
      "cell_type": "markdown",
      "source": [
        "**TOPIC: Python Basics Variable**"
      ],
      "metadata": {
        "id": "znQw4tgokg9B"
      }
    },
    {
      "cell_type": "markdown",
      "source": [
        "1. Declare two variables, `x` and `y`, and assign them integer values. Swap the\n",
        "values of these variables without using any temporary variable.\n"
      ],
      "metadata": {
        "id": "7djxQYJkkopa"
      }
    },
    {
      "cell_type": "code",
      "source": [
        "#declaring variables\n",
        "x=7\n",
        "y=4\n",
        "#swapping the variables with out using any temporary variable\n",
        "x,y=y,x\n",
        "#displaying the swapped variables\n",
        "print(x)\n",
        "print(y)"
      ],
      "metadata": {
        "colab": {
          "base_uri": "https://localhost:8080/"
        },
        "id": "iYyvmXuDkww2",
        "outputId": "fdb023aa-0fde-454e-b560-ce7a9b43f721"
      },
      "execution_count": null,
      "outputs": [
        {
          "output_type": "stream",
          "name": "stdout",
          "text": [
            "4\n",
            "7\n"
          ]
        }
      ]
    },
    {
      "cell_type": "markdown",
      "source": [
        "2. Create a program that calculates the area of a rectangle. Take the length and\n",
        "width as inputs from the user and store them in variables. Calculate and\n",
        "display the area."
      ],
      "metadata": {
        "id": "FyrbmERJlk7w"
      }
    },
    {
      "cell_type": "code",
      "source": [
        "#taking input from the user\n",
        "#l=length\n",
        "\n",
        "l=float(input(\"Enter a number:\"))\n",
        "#w=width\n",
        "w=float(input(\"Enter a number:\"))\n",
        "area = l * w\n",
        "print(\"The area of the rectangle is:\",area)\n"
      ],
      "metadata": {
        "colab": {
          "base_uri": "https://localhost:8080/"
        },
        "id": "lymKONSjlqNN",
        "outputId": "56159b8c-b50d-4d4f-bb44-45256f5e1dd7"
      },
      "execution_count": null,
      "outputs": [
        {
          "output_type": "stream",
          "name": "stdout",
          "text": [
            "Enter a number:4\n",
            "Enter a number:5\n",
            "The area of the rectangle is: 20.0\n"
          ]
        }
      ]
    },
    {
      "cell_type": "markdown",
      "source": [
        "3. Write a Python program that converts temperatures from Celsius to\n",
        "Fahrenheit. Take the temperature in Celsius as input, store it in a variable,\n",
        "convert it to Fahrenheit, and display the result."
      ],
      "metadata": {
        "id": "XfLvw5AdIqLS"
      }
    },
    {
      "cell_type": "code",
      "source": [
        "#taking input from the user\n",
        "celsius=float(input(\"Enter a number:\"))\n",
        "#fahrenheit = (celsius * 9/5) + 32\n",
        "Fahrenheit =(celsius * 9/5) + 32\n",
        "print(\"The temperature in fahrenheit\",Fahrenheit)\n"
      ],
      "metadata": {
        "colab": {
          "base_uri": "https://localhost:8080/"
        },
        "id": "y4qDkxVsIvDR",
        "outputId": "ae13f73e-1870-4c02-ef5a-9671e735c435"
      },
      "execution_count": null,
      "outputs": [
        {
          "output_type": "stream",
          "name": "stdout",
          "text": [
            "Enter a number:77.5\n",
            "The temperature in fahrenheit 171.5\n"
          ]
        }
      ]
    },
    {
      "cell_type": "markdown",
      "source": [
        "**TOPIC: String Based Questions**\n"
      ],
      "metadata": {
        "id": "ObtURIulMCCN"
      }
    },
    {
      "cell_type": "markdown",
      "source": [
        "1. Write a Python program that takes a string as input and prints the length of\n",
        "the string."
      ],
      "metadata": {
        "id": "CBxu1mGKMxtz"
      }
    },
    {
      "cell_type": "code",
      "source": [
        "#Taking string as an input\n",
        "A = str(input(\"Enter a string:\"))\n",
        "#len function is used to botain the length of the string\n",
        "B = len(A)\n",
        "#printing the length of the string\n",
        "print(\"The lengh of the string is:\",B)"
      ],
      "metadata": {
        "colab": {
          "base_uri": "https://localhost:8080/"
        },
        "id": "c4HX097XNIW3",
        "outputId": "cd75c095-2380-43a6-e017-2728440e8d5e"
      },
      "execution_count": null,
      "outputs": [
        {
          "output_type": "stream",
          "name": "stdout",
          "text": [
            "Enter a string:mohit\n",
            "The lengh of the string is: 5\n"
          ]
        }
      ]
    },
    {
      "cell_type": "markdown",
      "source": [
        "2. Create a program that takes a sentence from the user and counts the number\n",
        "of vowels (a, e, i, o, u) in the string.\n"
      ],
      "metadata": {
        "id": "S2NlriuWPbRR"
      }
    },
    {
      "cell_type": "code",
      "source": [
        "#taking a sentance as the input from the user\n",
        "sentance = input(\"Enter a string:\")\n",
        "#converting the string into lower case to make it case sensitive\n",
        "sentance= sentance.lower()\n",
        "#total count = individual counts of a,e,i,o,u\n",
        "numof_vowels = sentance.count(\"a\")+sentance.count(\"e\")+sentance.count(\"i\")+sentance.count(\"o\")+sentance.count(\"u\")\n",
        "print(numof_vowels)\n",
        "\n"
      ],
      "metadata": {
        "colab": {
          "base_uri": "https://localhost:8080/"
        },
        "id": "VlinYapsPgOm",
        "outputId": "6e817383-8851-4579-f784-188d1b9121e1"
      },
      "execution_count": 17,
      "outputs": [
        {
          "output_type": "stream",
          "name": "stdout",
          "text": [
            "Enter a string:mohit\n",
            "2\n"
          ]
        }
      ]
    },
    {
      "cell_type": "markdown",
      "source": [
        "3. Given a string, reverse the order of characters using string slicing and print\n",
        "the reversed string."
      ],
      "metadata": {
        "id": "01AA1BgwY72E"
      }
    },
    {
      "cell_type": "code",
      "source": [
        "A=str(input(\"Enter a string:\"))#Taking a input string from the user\n",
        "B=A[::-1]#reversing the string using slicing method\n",
        "print(B)#displaynig the output"
      ],
      "metadata": {
        "colab": {
          "base_uri": "https://localhost:8080/"
        },
        "id": "nBAyOBnSY5-H",
        "outputId": "6c05a27b-f499-4659-eae4-8c2b72f6719b"
      },
      "execution_count": 21,
      "outputs": [
        {
          "output_type": "stream",
          "name": "stdout",
          "text": [
            "Enter a string:mohit\n",
            "tihom\n"
          ]
        }
      ]
    },
    {
      "cell_type": "markdown",
      "source": [
        "4. Write a program that takes a string as input and checks if it is a palindrome\n",
        "(reads the same forwards and backwards)."
      ],
      "metadata": {
        "id": "KVvy7gMtb6bq"
      }
    },
    {
      "cell_type": "code",
      "source": [
        "A=str(input(\"Enter a string:\"))#taking input from the user\n",
        "B=A[::-1]#reversing the string using slicing method\n",
        "if B==A:#using the conditional statements to check whether the strings are equal\n",
        "  print(\"The given string is palindrome\")\n",
        "else:\n",
        "  print(\"not a palindrome\")#displaying the output"
      ],
      "metadata": {
        "colab": {
          "base_uri": "https://localhost:8080/"
        },
        "id": "bCQCVla3b9pi",
        "outputId": "a218ad5f-c39e-40da-ad9f-667ced4f2b0c"
      },
      "execution_count": 22,
      "outputs": [
        {
          "output_type": "stream",
          "name": "stdout",
          "text": [
            "Enter a string:kayak\n",
            "The given string is palindrome\n"
          ]
        }
      ]
    },
    {
      "cell_type": "markdown",
      "source": [
        "5. Create a program that takes a string as input and removes all the spaces from\n",
        "it. Print the modified string without spaces."
      ],
      "metadata": {
        "id": "OP-HnnT1dXJs"
      }
    },
    {
      "cell_type": "code",
      "source": [
        "A=str(input(\"Enter a string:\"))#taking input from the user\n",
        "B=A.replace(\" \",\"\")#removig the spaces\n",
        "print(\"The modified string is:\",B)#displaying the modified string"
      ],
      "metadata": {
        "colab": {
          "base_uri": "https://localhost:8080/"
        },
        "id": "nG2nZh9MdbXJ",
        "outputId": "f4675d45-d551-4fbc-a922-d4a43458baf6"
      },
      "execution_count": 25,
      "outputs": [
        {
          "output_type": "stream",
          "name": "stdout",
          "text": [
            "Enter a string:m o hi t\n",
            "The modified string is: mohit\n"
          ]
        }
      ]
    }
  ]
}